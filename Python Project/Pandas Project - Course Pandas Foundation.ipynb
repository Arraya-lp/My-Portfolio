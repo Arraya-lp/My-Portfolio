{
 "cells":[
  {
   "cell_type":"markdown",
   "source":[
    "# Project"
   ],
   "attachments":{
    
   },
   "metadata":{
    "datalore":{
     "node_id":"Project",
     "type":"MD",
     "hide_input_from_viewers":false,
     "hide_output_from_viewers":false,
     "sheet_delimiter":true
    }
   }
  },
  {
   "cell_type":"markdown",
   "source":[
    "# Final Project - Analyzing Sales Data\n",
    "\n",
    "**Date**: 6 November 2022\n",
    "\n",
    "**Author**: Arraya Sitpanuwong \n",
    "\n",
    "**Course**: `Pandas Foundation`"
   ],
   "attachments":{
    
   },
   "metadata":{
    "datalore":{
     "node_id":"XvCELkDZYdLzF1gdH2ltnp",
     "type":"MD",
     "hide_input_from_viewers":false,
     "hide_output_from_viewers":false,
     "report_properties":{
      "rowId":"mSAxnVK0PFgVKw9xWe7QRQ"
     }
    }
   }
  },
  {
   "cell_type":"code",
   "source":[
    "# import data\n",
    "import pandas as pd\n",
    "df = pd.read_csv(\"sample-store.csv\")"
   ],
   "execution_count":62,
   "outputs":[
    
   ],
   "metadata":{
    "datalore":{
     "node_id":"DczD1oVoAPb5TyWMb7ruza",
     "type":"CODE",
     "hide_input_from_viewers":false,
     "hide_output_from_viewers":false,
     "report_properties":{
      "rowId":"Dfu5SQ8OxGH5R1o5Oj7HGW"
     }
    }
   }
  },
  {
   "cell_type":"code",
   "source":[
    "# preview top 5 rows\n",
    "df.head()"
   ],
   "execution_count":4,
   "outputs":[
    {
     "data":{
      "text\/html":[
       "<div>\n",
       "<style scoped>\n",
       "    .dataframe tbody tr th:only-of-type {\n",
       "        vertical-align: middle;\n",
       "    }\n",
       "\n",
       "    .dataframe tbody tr th {\n",
       "        vertical-align: top;\n",
       "    }\n",
       "\n",
       "    .dataframe thead th {\n",
       "        text-align: right;\n",
       "    }\n",
       "<\/style>\n",
       "<table border=\"1\" class=\"dataframe\">\n",
       "  <thead>\n",
       "    <tr style=\"text-align: right;\">\n",
       "      <th><\/th>\n",
       "      <th>Row ID<\/th>\n",
       "      <th>Order ID<\/th>\n",
       "      <th>Order Date<\/th>\n",
       "      <th>Ship Date<\/th>\n",
       "      <th>Ship Mode<\/th>\n",
       "      <th>Customer ID<\/th>\n",
       "      <th>Customer Name<\/th>\n",
       "      <th>Segment<\/th>\n",
       "      <th>Country\/Region<\/th>\n",
       "      <th>City<\/th>\n",
       "      <th>...<\/th>\n",
       "      <th>Postal Code<\/th>\n",
       "      <th>Region<\/th>\n",
       "      <th>Product ID<\/th>\n",
       "      <th>Category<\/th>\n",
       "      <th>Sub-Category<\/th>\n",
       "      <th>Product Name<\/th>\n",
       "      <th>Sales<\/th>\n",
       "      <th>Quantity<\/th>\n",
       "      <th>Discount<\/th>\n",
       "      <th>Profit<\/th>\n",
       "    <\/tr>\n",
       "  <\/thead>\n",
       "  <tbody>\n",
       "    <tr>\n",
       "      <th>0<\/th>\n",
       "      <td>1<\/td>\n",
       "      <td>CA-2019-152156<\/td>\n",
       "      <td>11\/8\/2019<\/td>\n",
       "      <td>11\/11\/2019<\/td>\n",
       "      <td>Second Class<\/td>\n",
       "      <td>CG-12520<\/td>\n",
       "      <td>Claire Gute<\/td>\n",
       "      <td>Consumer<\/td>\n",
       "      <td>United States<\/td>\n",
       "      <td>Henderson<\/td>\n",
       "      <td>...<\/td>\n",
       "      <td>42420.0<\/td>\n",
       "      <td>South<\/td>\n",
       "      <td>FUR-BO-10001798<\/td>\n",
       "      <td>Furniture<\/td>\n",
       "      <td>Bookcases<\/td>\n",
       "      <td>Bush Somerset Collection Bookcase<\/td>\n",
       "      <td>261.9600<\/td>\n",
       "      <td>2<\/td>\n",
       "      <td>0.00<\/td>\n",
       "      <td>41.9136<\/td>\n",
       "    <\/tr>\n",
       "    <tr>\n",
       "      <th>1<\/th>\n",
       "      <td>2<\/td>\n",
       "      <td>CA-2019-152156<\/td>\n",
       "      <td>11\/8\/2019<\/td>\n",
       "      <td>11\/11\/2019<\/td>\n",
       "      <td>Second Class<\/td>\n",
       "      <td>CG-12520<\/td>\n",
       "      <td>Claire Gute<\/td>\n",
       "      <td>Consumer<\/td>\n",
       "      <td>United States<\/td>\n",
       "      <td>Henderson<\/td>\n",
       "      <td>...<\/td>\n",
       "      <td>42420.0<\/td>\n",
       "      <td>South<\/td>\n",
       "      <td>FUR-CH-10000454<\/td>\n",
       "      <td>Furniture<\/td>\n",
       "      <td>Chairs<\/td>\n",
       "      <td>Hon Deluxe Fabric Upholstered Stacking Chairs,...<\/td>\n",
       "      <td>731.9400<\/td>\n",
       "      <td>3<\/td>\n",
       "      <td>0.00<\/td>\n",
       "      <td>219.5820<\/td>\n",
       "    <\/tr>\n",
       "    <tr>\n",
       "      <th>2<\/th>\n",
       "      <td>3<\/td>\n",
       "      <td>CA-2019-138688<\/td>\n",
       "      <td>6\/12\/2019<\/td>\n",
       "      <td>6\/16\/2019<\/td>\n",
       "      <td>Second Class<\/td>\n",
       "      <td>DV-13045<\/td>\n",
       "      <td>Darrin Van Huff<\/td>\n",
       "      <td>Corporate<\/td>\n",
       "      <td>United States<\/td>\n",
       "      <td>Los Angeles<\/td>\n",
       "      <td>...<\/td>\n",
       "      <td>90036.0<\/td>\n",
       "      <td>West<\/td>\n",
       "      <td>OFF-LA-10000240<\/td>\n",
       "      <td>Office Supplies<\/td>\n",
       "      <td>Labels<\/td>\n",
       "      <td>Self-Adhesive Address Labels for Typewriters b...<\/td>\n",
       "      <td>14.6200<\/td>\n",
       "      <td>2<\/td>\n",
       "      <td>0.00<\/td>\n",
       "      <td>6.8714<\/td>\n",
       "    <\/tr>\n",
       "    <tr>\n",
       "      <th>3<\/th>\n",
       "      <td>4<\/td>\n",
       "      <td>US-2018-108966<\/td>\n",
       "      <td>10\/11\/2018<\/td>\n",
       "      <td>10\/18\/2018<\/td>\n",
       "      <td>Standard Class<\/td>\n",
       "      <td>SO-20335<\/td>\n",
       "      <td>Sean O'Donnell<\/td>\n",
       "      <td>Consumer<\/td>\n",
       "      <td>United States<\/td>\n",
       "      <td>Fort Lauderdale<\/td>\n",
       "      <td>...<\/td>\n",
       "      <td>33311.0<\/td>\n",
       "      <td>South<\/td>\n",
       "      <td>FUR-TA-10000577<\/td>\n",
       "      <td>Furniture<\/td>\n",
       "      <td>Tables<\/td>\n",
       "      <td>Bretford CR4500 Series Slim Rectangular Table<\/td>\n",
       "      <td>957.5775<\/td>\n",
       "      <td>5<\/td>\n",
       "      <td>0.45<\/td>\n",
       "      <td>-383.0310<\/td>\n",
       "    <\/tr>\n",
       "    <tr>\n",
       "      <th>4<\/th>\n",
       "      <td>5<\/td>\n",
       "      <td>US-2018-108966<\/td>\n",
       "      <td>10\/11\/2018<\/td>\n",
       "      <td>10\/18\/2018<\/td>\n",
       "      <td>Standard Class<\/td>\n",
       "      <td>SO-20335<\/td>\n",
       "      <td>Sean O'Donnell<\/td>\n",
       "      <td>Consumer<\/td>\n",
       "      <td>United States<\/td>\n",
       "      <td>Fort Lauderdale<\/td>\n",
       "      <td>...<\/td>\n",
       "      <td>33311.0<\/td>\n",
       "      <td>South<\/td>\n",
       "      <td>OFF-ST-10000760<\/td>\n",
       "      <td>Office Supplies<\/td>\n",
       "      <td>Storage<\/td>\n",
       "      <td>Eldon Fold 'N Roll Cart System<\/td>\n",
       "      <td>22.3680<\/td>\n",
       "      <td>2<\/td>\n",
       "      <td>0.20<\/td>\n",
       "      <td>2.5164<\/td>\n",
       "    <\/tr>\n",
       "  <\/tbody>\n",
       "<\/table>\n",
       "<p>5 rows × 21 columns<\/p>\n",
       "<\/div>"
      ]
     },
     "metadata":{
      
     },
     "output_type":"display_data"
    }
   ],
   "metadata":{
    "datalore":{
     "node_id":"N5tp31uig0oCMjH3JnmEWb",
     "type":"CODE",
     "hide_input_from_viewers":false,
     "hide_output_from_viewers":false,
     "report_properties":{
      "rowId":"VF1r67appkG0sdeHuEX3Yf"
     }
    }
   }
  },
  {
   "cell_type":"code",
   "source":[
    "# shape of dataframe\n",
    "df.shape"
   ],
   "execution_count":5,
   "outputs":[
    {
     "data":{
      "text\/plain":[
       "(9994, 21)"
      ]
     },
     "metadata":{
      
     },
     "output_type":"display_data"
    }
   ],
   "metadata":{
    "datalore":{
     "node_id":"nN05rRXoMVyuYRct2QY8S6",
     "type":"CODE",
     "hide_input_from_viewers":false,
     "hide_output_from_viewers":false,
     "report_properties":{
      "rowId":"1dqScwNAgAnF5dX29Db6Ck"
     }
    }
   }
  },
  {
   "cell_type":"code",
   "source":[
    "# see data frame information using .info()\n",
    "df.info()"
   ],
   "execution_count":6,
   "outputs":[
    {
     "name":"stdout",
     "text":[
      "<class 'pandas.core.frame.DataFrame'>\n",
      "RangeIndex: 9994 entries, 0 to 9993\n",
      "Data columns (total 21 columns):\n",
      " #   Column          Non-Null Count  Dtype  \n",
      "---  ------          --------------  -----  \n",
      " 0   Row ID          9994 non-null   int64  \n",
      " 1   Order ID        9994 non-null   object \n",
      " 2   Order Date      9994 non-null   object \n",
      " 3   Ship Date       9994 non-null   object \n",
      " 4   Ship Mode       9994 non-null   object \n",
      " 5   Customer ID     9994 non-null   object \n",
      " 6   Customer Name   9994 non-null   object \n",
      " 7   Segment         9994 non-null   object \n",
      " 8   Country\/Region  9994 non-null   object \n",
      " 9   City            9994 non-null   object \n",
      " 10  State           9994 non-null   object \n",
      " 11  Postal Code     9983 non-null   float64\n",
      " 12  Region          9994 non-null   object \n",
      " 13  Product ID      9994 non-null   object \n",
      " 14  Category        9994 non-null   object \n",
      " 15  Sub-Category    9994 non-null   object \n",
      " 16  Product Name    9994 non-null   object \n",
      " 17  Sales           9994 non-null   float64\n",
      " 18  Quantity        9994 non-null   int64  \n",
      " 19  Discount        9994 non-null   float64\n",
      " 20  Profit          9994 non-null   float64\n",
      "dtypes: float64(4), int64(2), object(15)\n",
      "memory usage: 1.6+ MB\n"
     ],
     "output_type":"stream"
    }
   ],
   "metadata":{
    "datalore":{
     "node_id":"4HoEpU3NUOoTzYFU613R0u",
     "type":"CODE",
     "hide_input_from_viewers":false,
     "hide_output_from_viewers":false,
     "report_properties":{
      "rowId":"0A4lR69EGorjnTvMDbh17Q"
     }
    }
   }
  },
  {
   "cell_type":"markdown",
   "source":[
    "We can use `pd.to_datetime()` function to convert columns 'Order Date' and 'Ship Date' to datetime."
   ],
   "attachments":{
    
   },
   "metadata":{
    "datalore":{
     "node_id":"FxUduVLYcIJARcVWzu7TTS",
     "type":"MD",
     "hide_input_from_viewers":false,
     "hide_output_from_viewers":false,
     "report_properties":{
      "rowId":"I696jpQ0XlYGiKMhQlghJq"
     }
    }
   }
  },
  {
   "cell_type":"code",
   "source":[
    "# example of pd.to_datetime() function\n",
    "pd.to_datetime(df['Order Date'].head(), format='%m\/%d\/%Y')"
   ],
   "execution_count":7,
   "outputs":[
    {
     "data":{
      "text\/html":[
       "<pre>0   2019-11-08\n",
       "1   2019-11-08\n",
       "2   2019-06-12\n",
       "3   2018-10-11\n",
       "4   2018-10-11\n",
       "Name: Order Date, dtype: datetime64[ns]<\/pre>"
      ]
     },
     "metadata":{
      
     },
     "output_type":"display_data"
    }
   ],
   "metadata":{
    "datalore":{
     "node_id":"KkibIP51w5TH5N8a96iJtr",
     "type":"CODE",
     "hide_input_from_viewers":false,
     "hide_output_from_viewers":false,
     "report_properties":{
      "rowId":"vJBovOIAGKlLR9YyNIG70W"
     }
    }
   }
  },
  {
   "cell_type":"code",
   "source":[
    "# TODO - convert order date and ship date to datetime in the original dataframe\n",
    "new_order_date = pd.to_datetime(df['Order Date'], format='%m\/%d\/%Y')\n",
    "new_ship_date = pd.to_datetime(df['Ship Date'], format='%m\/%d\/%Y')\n",
    "\n",
    "\n",
    "df['Order Date'] = new_order_date\n",
    "df['Ship Date'] = new_ship_date\n",
    "\n",
    "df.head()"
   ],
   "execution_count":78,
   "outputs":[
    {
     "data":{
      "text\/html":[
       "<div>\n",
       "<style scoped>\n",
       "    .dataframe tbody tr th:only-of-type {\n",
       "        vertical-align: middle;\n",
       "    }\n",
       "\n",
       "    .dataframe tbody tr th {\n",
       "        vertical-align: top;\n",
       "    }\n",
       "\n",
       "    .dataframe thead th {\n",
       "        text-align: right;\n",
       "    }\n",
       "<\/style>\n",
       "<table border=\"1\" class=\"dataframe\">\n",
       "  <thead>\n",
       "    <tr style=\"text-align: right;\">\n",
       "      <th><\/th>\n",
       "      <th>Row ID<\/th>\n",
       "      <th>Order ID<\/th>\n",
       "      <th>Order Date<\/th>\n",
       "      <th>Ship Date<\/th>\n",
       "      <th>Ship Mode<\/th>\n",
       "      <th>Customer ID<\/th>\n",
       "      <th>Customer Name<\/th>\n",
       "      <th>Segment<\/th>\n",
       "      <th>Country\/Region<\/th>\n",
       "      <th>City<\/th>\n",
       "      <th>...<\/th>\n",
       "      <th>Postal Code<\/th>\n",
       "      <th>Region<\/th>\n",
       "      <th>Product ID<\/th>\n",
       "      <th>Category<\/th>\n",
       "      <th>Sub-Category<\/th>\n",
       "      <th>Product Name<\/th>\n",
       "      <th>Sales<\/th>\n",
       "      <th>Quantity<\/th>\n",
       "      <th>Discount<\/th>\n",
       "      <th>Profit<\/th>\n",
       "    <\/tr>\n",
       "  <\/thead>\n",
       "  <tbody>\n",
       "    <tr>\n",
       "      <th>0<\/th>\n",
       "      <td>1<\/td>\n",
       "      <td>CA-2019-152156<\/td>\n",
       "      <td>2019-11-08<\/td>\n",
       "      <td>2019-11-11<\/td>\n",
       "      <td>Second Class<\/td>\n",
       "      <td>CG-12520<\/td>\n",
       "      <td>Claire Gute<\/td>\n",
       "      <td>Consumer<\/td>\n",
       "      <td>United States<\/td>\n",
       "      <td>Henderson<\/td>\n",
       "      <td>...<\/td>\n",
       "      <td>42420.0<\/td>\n",
       "      <td>South<\/td>\n",
       "      <td>FUR-BO-10001798<\/td>\n",
       "      <td>Furniture<\/td>\n",
       "      <td>Bookcases<\/td>\n",
       "      <td>Bush Somerset Collection Bookcase<\/td>\n",
       "      <td>261.9600<\/td>\n",
       "      <td>2<\/td>\n",
       "      <td>0.00<\/td>\n",
       "      <td>41.9136<\/td>\n",
       "    <\/tr>\n",
       "    <tr>\n",
       "      <th>1<\/th>\n",
       "      <td>2<\/td>\n",
       "      <td>CA-2019-152156<\/td>\n",
       "      <td>2019-11-08<\/td>\n",
       "      <td>2019-11-11<\/td>\n",
       "      <td>Second Class<\/td>\n",
       "      <td>CG-12520<\/td>\n",
       "      <td>Claire Gute<\/td>\n",
       "      <td>Consumer<\/td>\n",
       "      <td>United States<\/td>\n",
       "      <td>Henderson<\/td>\n",
       "      <td>...<\/td>\n",
       "      <td>42420.0<\/td>\n",
       "      <td>South<\/td>\n",
       "      <td>FUR-CH-10000454<\/td>\n",
       "      <td>Furniture<\/td>\n",
       "      <td>Chairs<\/td>\n",
       "      <td>Hon Deluxe Fabric Upholstered Stacking Chairs,...<\/td>\n",
       "      <td>731.9400<\/td>\n",
       "      <td>3<\/td>\n",
       "      <td>0.00<\/td>\n",
       "      <td>219.5820<\/td>\n",
       "    <\/tr>\n",
       "    <tr>\n",
       "      <th>2<\/th>\n",
       "      <td>3<\/td>\n",
       "      <td>CA-2019-138688<\/td>\n",
       "      <td>2019-06-12<\/td>\n",
       "      <td>2019-06-16<\/td>\n",
       "      <td>Second Class<\/td>\n",
       "      <td>DV-13045<\/td>\n",
       "      <td>Darrin Van Huff<\/td>\n",
       "      <td>Corporate<\/td>\n",
       "      <td>United States<\/td>\n",
       "      <td>Los Angeles<\/td>\n",
       "      <td>...<\/td>\n",
       "      <td>90036.0<\/td>\n",
       "      <td>West<\/td>\n",
       "      <td>OFF-LA-10000240<\/td>\n",
       "      <td>Office Supplies<\/td>\n",
       "      <td>Labels<\/td>\n",
       "      <td>Self-Adhesive Address Labels for Typewriters b...<\/td>\n",
       "      <td>14.6200<\/td>\n",
       "      <td>2<\/td>\n",
       "      <td>0.00<\/td>\n",
       "      <td>6.8714<\/td>\n",
       "    <\/tr>\n",
       "    <tr>\n",
       "      <th>3<\/th>\n",
       "      <td>4<\/td>\n",
       "      <td>US-2018-108966<\/td>\n",
       "      <td>2018-10-11<\/td>\n",
       "      <td>2018-10-18<\/td>\n",
       "      <td>Standard Class<\/td>\n",
       "      <td>SO-20335<\/td>\n",
       "      <td>Sean O'Donnell<\/td>\n",
       "      <td>Consumer<\/td>\n",
       "      <td>United States<\/td>\n",
       "      <td>Fort Lauderdale<\/td>\n",
       "      <td>...<\/td>\n",
       "      <td>33311.0<\/td>\n",
       "      <td>South<\/td>\n",
       "      <td>FUR-TA-10000577<\/td>\n",
       "      <td>Furniture<\/td>\n",
       "      <td>Tables<\/td>\n",
       "      <td>Bretford CR4500 Series Slim Rectangular Table<\/td>\n",
       "      <td>957.5775<\/td>\n",
       "      <td>5<\/td>\n",
       "      <td>0.45<\/td>\n",
       "      <td>-383.0310<\/td>\n",
       "    <\/tr>\n",
       "    <tr>\n",
       "      <th>4<\/th>\n",
       "      <td>5<\/td>\n",
       "      <td>US-2018-108966<\/td>\n",
       "      <td>2018-10-11<\/td>\n",
       "      <td>2018-10-18<\/td>\n",
       "      <td>Standard Class<\/td>\n",
       "      <td>SO-20335<\/td>\n",
       "      <td>Sean O'Donnell<\/td>\n",
       "      <td>Consumer<\/td>\n",
       "      <td>United States<\/td>\n",
       "      <td>Fort Lauderdale<\/td>\n",
       "      <td>...<\/td>\n",
       "      <td>33311.0<\/td>\n",
       "      <td>South<\/td>\n",
       "      <td>OFF-ST-10000760<\/td>\n",
       "      <td>Office Supplies<\/td>\n",
       "      <td>Storage<\/td>\n",
       "      <td>Eldon Fold 'N Roll Cart System<\/td>\n",
       "      <td>22.3680<\/td>\n",
       "      <td>2<\/td>\n",
       "      <td>0.20<\/td>\n",
       "      <td>2.5164<\/td>\n",
       "    <\/tr>\n",
       "  <\/tbody>\n",
       "<\/table>\n",
       "<p>5 rows × 21 columns<\/p>\n",
       "<\/div>"
      ]
     },
     "metadata":{
      
     },
     "output_type":"display_data"
    }
   ],
   "metadata":{
    "datalore":{
     "node_id":"9p4EIl3LtXEelSSxATHiTT",
     "type":"CODE",
     "hide_input_from_viewers":false,
     "hide_output_from_viewers":false,
     "report_properties":{
      "rowId":"7464q7Mtu7ahDSLqF2z5IU"
     }
    }
   }
  },
  {
   "cell_type":"code",
   "source":[
    "# TODO - count nan in postal code column\n",
    "df['Postal Code'].isna().sum()"
   ],
   "execution_count":9,
   "outputs":[
    {
     "data":{
      "text\/plain":[
       "11"
      ]
     },
     "metadata":{
      
     },
     "output_type":"display_data"
    }
   ],
   "metadata":{
    "datalore":{
     "node_id":"PuXNlEjETz7BXCjRwIFUXQ",
     "type":"CODE",
     "hide_input_from_viewers":false,
     "hide_output_from_viewers":false,
     "report_properties":{
      "rowId":"NHsXdJVKZ1HAmhxa7yPwnq"
     }
    }
   }
  },
  {
   "cell_type":"code",
   "source":[
    "# TODO - filter rows with missing values\n",
    "df.isna().sum()\n",
    "\n",
    "df[df['Postal Code'].isna()]"
   ],
   "execution_count":10,
   "outputs":[
    {
     "data":{
      "text\/html":[
       "<div>\n",
       "<style scoped>\n",
       "    .dataframe tbody tr th:only-of-type {\n",
       "        vertical-align: middle;\n",
       "    }\n",
       "\n",
       "    .dataframe tbody tr th {\n",
       "        vertical-align: top;\n",
       "    }\n",
       "\n",
       "    .dataframe thead th {\n",
       "        text-align: right;\n",
       "    }\n",
       "<\/style>\n",
       "<table border=\"1\" class=\"dataframe\">\n",
       "  <thead>\n",
       "    <tr style=\"text-align: right;\">\n",
       "      <th><\/th>\n",
       "      <th>Row ID<\/th>\n",
       "      <th>Order ID<\/th>\n",
       "      <th>Order Date<\/th>\n",
       "      <th>Ship Date<\/th>\n",
       "      <th>Ship Mode<\/th>\n",
       "      <th>Customer ID<\/th>\n",
       "      <th>Customer Name<\/th>\n",
       "      <th>Segment<\/th>\n",
       "      <th>Country\/Region<\/th>\n",
       "      <th>City<\/th>\n",
       "      <th>...<\/th>\n",
       "      <th>Postal Code<\/th>\n",
       "      <th>Region<\/th>\n",
       "      <th>Product ID<\/th>\n",
       "      <th>Category<\/th>\n",
       "      <th>Sub-Category<\/th>\n",
       "      <th>Product Name<\/th>\n",
       "      <th>Sales<\/th>\n",
       "      <th>Quantity<\/th>\n",
       "      <th>Discount<\/th>\n",
       "      <th>Profit<\/th>\n",
       "    <\/tr>\n",
       "  <\/thead>\n",
       "  <tbody>\n",
       "    <tr>\n",
       "      <th>2234<\/th>\n",
       "      <td>2235<\/td>\n",
       "      <td>CA-2020-104066<\/td>\n",
       "      <td>2020-12-05<\/td>\n",
       "      <td>2020-12-10<\/td>\n",
       "      <td>Standard Class<\/td>\n",
       "      <td>QJ-19255<\/td>\n",
       "      <td>Quincy Jones<\/td>\n",
       "      <td>Corporate<\/td>\n",
       "      <td>United States<\/td>\n",
       "      <td>Burlington<\/td>\n",
       "      <td>...<\/td>\n",
       "      <td>NaN<\/td>\n",
       "      <td>East<\/td>\n",
       "      <td>TEC-AC-10001013<\/td>\n",
       "      <td>Technology<\/td>\n",
       "      <td>Accessories<\/td>\n",
       "      <td>Logitech ClearChat Comfort\/USB Headset H390<\/td>\n",
       "      <td>205.03<\/td>\n",
       "      <td>7<\/td>\n",
       "      <td>0.0<\/td>\n",
       "      <td>67.6599<\/td>\n",
       "    <\/tr>\n",
       "    <tr>\n",
       "      <th>5274<\/th>\n",
       "      <td>5275<\/td>\n",
       "      <td>CA-2018-162887<\/td>\n",
       "      <td>2018-11-07<\/td>\n",
       "      <td>2018-11-09<\/td>\n",
       "      <td>Second Class<\/td>\n",
       "      <td>SV-20785<\/td>\n",
       "      <td>Stewart Visinsky<\/td>\n",
       "      <td>Consumer<\/td>\n",
       "      <td>United States<\/td>\n",
       "      <td>Burlington<\/td>\n",
       "      <td>...<\/td>\n",
       "      <td>NaN<\/td>\n",
       "      <td>East<\/td>\n",
       "      <td>FUR-CH-10000595<\/td>\n",
       "      <td>Furniture<\/td>\n",
       "      <td>Chairs<\/td>\n",
       "      <td>Safco Contoured Stacking Chairs<\/td>\n",
       "      <td>715.20<\/td>\n",
       "      <td>3<\/td>\n",
       "      <td>0.0<\/td>\n",
       "      <td>178.8000<\/td>\n",
       "    <\/tr>\n",
       "    <tr>\n",
       "      <th>8798<\/th>\n",
       "      <td>8799<\/td>\n",
       "      <td>US-2019-150140<\/td>\n",
       "      <td>2019-04-06<\/td>\n",
       "      <td>2019-04-10<\/td>\n",
       "      <td>Standard Class<\/td>\n",
       "      <td>VM-21685<\/td>\n",
       "      <td>Valerie Mitchum<\/td>\n",
       "      <td>Home Office<\/td>\n",
       "      <td>United States<\/td>\n",
       "      <td>Burlington<\/td>\n",
       "      <td>...<\/td>\n",
       "      <td>NaN<\/td>\n",
       "      <td>East<\/td>\n",
       "      <td>TEC-PH-10002555<\/td>\n",
       "      <td>Technology<\/td>\n",
       "      <td>Phones<\/td>\n",
       "      <td>Nortel Meridian M5316 Digital phone<\/td>\n",
       "      <td>1294.75<\/td>\n",
       "      <td>5<\/td>\n",
       "      <td>0.0<\/td>\n",
       "      <td>336.6350<\/td>\n",
       "    <\/tr>\n",
       "    <tr>\n",
       "      <th>9146<\/th>\n",
       "      <td>9147<\/td>\n",
       "      <td>US-2019-165505<\/td>\n",
       "      <td>2019-01-23<\/td>\n",
       "      <td>2019-01-27<\/td>\n",
       "      <td>Standard Class<\/td>\n",
       "      <td>CB-12535<\/td>\n",
       "      <td>Claudia Bergmann<\/td>\n",
       "      <td>Corporate<\/td>\n",
       "      <td>United States<\/td>\n",
       "      <td>Burlington<\/td>\n",
       "      <td>...<\/td>\n",
       "      <td>NaN<\/td>\n",
       "      <td>East<\/td>\n",
       "      <td>TEC-AC-10002926<\/td>\n",
       "      <td>Technology<\/td>\n",
       "      <td>Accessories<\/td>\n",
       "      <td>Logitech Wireless Marathon Mouse M705<\/td>\n",
       "      <td>99.98<\/td>\n",
       "      <td>2<\/td>\n",
       "      <td>0.0<\/td>\n",
       "      <td>42.9914<\/td>\n",
       "    <\/tr>\n",
       "    <tr>\n",
       "      <th>9147<\/th>\n",
       "      <td>9148<\/td>\n",
       "      <td>US-2019-165505<\/td>\n",
       "      <td>2019-01-23<\/td>\n",
       "      <td>2019-01-27<\/td>\n",
       "      <td>Standard Class<\/td>\n",
       "      <td>CB-12535<\/td>\n",
       "      <td>Claudia Bergmann<\/td>\n",
       "      <td>Corporate<\/td>\n",
       "      <td>United States<\/td>\n",
       "      <td>Burlington<\/td>\n",
       "      <td>...<\/td>\n",
       "      <td>NaN<\/td>\n",
       "      <td>East<\/td>\n",
       "      <td>OFF-AR-10003477<\/td>\n",
       "      <td>Office Supplies<\/td>\n",
       "      <td>Art<\/td>\n",
       "      <td>4009 Highlighters<\/td>\n",
       "      <td>8.04<\/td>\n",
       "      <td>6<\/td>\n",
       "      <td>0.0<\/td>\n",
       "      <td>2.7336<\/td>\n",
       "    <\/tr>\n",
       "    <tr>\n",
       "      <th>9148<\/th>\n",
       "      <td>9149<\/td>\n",
       "      <td>US-2019-165505<\/td>\n",
       "      <td>2019-01-23<\/td>\n",
       "      <td>2019-01-27<\/td>\n",
       "      <td>Standard Class<\/td>\n",
       "      <td>CB-12535<\/td>\n",
       "      <td>Claudia Bergmann<\/td>\n",
       "      <td>Corporate<\/td>\n",
       "      <td>United States<\/td>\n",
       "      <td>Burlington<\/td>\n",
       "      <td>...<\/td>\n",
       "      <td>NaN<\/td>\n",
       "      <td>East<\/td>\n",
       "      <td>OFF-ST-10001526<\/td>\n",
       "      <td>Office Supplies<\/td>\n",
       "      <td>Storage<\/td>\n",
       "      <td>Iceberg Mobile Mega Data\/Printer Cart<\/td>\n",
       "      <td>1564.29<\/td>\n",
       "      <td>13<\/td>\n",
       "      <td>0.0<\/td>\n",
       "      <td>406.7154<\/td>\n",
       "    <\/tr>\n",
       "    <tr>\n",
       "      <th>9386<\/th>\n",
       "      <td>9387<\/td>\n",
       "      <td>US-2020-127292<\/td>\n",
       "      <td>2020-01-19<\/td>\n",
       "      <td>2020-01-23<\/td>\n",
       "      <td>Standard Class<\/td>\n",
       "      <td>RM-19375<\/td>\n",
       "      <td>Raymond Messe<\/td>\n",
       "      <td>Consumer<\/td>\n",
       "      <td>United States<\/td>\n",
       "      <td>Burlington<\/td>\n",
       "      <td>...<\/td>\n",
       "      <td>NaN<\/td>\n",
       "      <td>East<\/td>\n",
       "      <td>OFF-PA-10000157<\/td>\n",
       "      <td>Office Supplies<\/td>\n",
       "      <td>Paper<\/td>\n",
       "      <td>Xerox 191<\/td>\n",
       "      <td>79.92<\/td>\n",
       "      <td>4<\/td>\n",
       "      <td>0.0<\/td>\n",
       "      <td>37.5624<\/td>\n",
       "    <\/tr>\n",
       "    <tr>\n",
       "      <th>9387<\/th>\n",
       "      <td>9388<\/td>\n",
       "      <td>US-2020-127292<\/td>\n",
       "      <td>2020-01-19<\/td>\n",
       "      <td>2020-01-23<\/td>\n",
       "      <td>Standard Class<\/td>\n",
       "      <td>RM-19375<\/td>\n",
       "      <td>Raymond Messe<\/td>\n",
       "      <td>Consumer<\/td>\n",
       "      <td>United States<\/td>\n",
       "      <td>Burlington<\/td>\n",
       "      <td>...<\/td>\n",
       "      <td>NaN<\/td>\n",
       "      <td>East<\/td>\n",
       "      <td>OFF-PA-10001970<\/td>\n",
       "      <td>Office Supplies<\/td>\n",
       "      <td>Paper<\/td>\n",
       "      <td>Xerox 1881<\/td>\n",
       "      <td>12.28<\/td>\n",
       "      <td>1<\/td>\n",
       "      <td>0.0<\/td>\n",
       "      <td>5.7716<\/td>\n",
       "    <\/tr>\n",
       "    <tr>\n",
       "      <th>9388<\/th>\n",
       "      <td>9389<\/td>\n",
       "      <td>US-2020-127292<\/td>\n",
       "      <td>2020-01-19<\/td>\n",
       "      <td>2020-01-23<\/td>\n",
       "      <td>Standard Class<\/td>\n",
       "      <td>RM-19375<\/td>\n",
       "      <td>Raymond Messe<\/td>\n",
       "      <td>Consumer<\/td>\n",
       "      <td>United States<\/td>\n",
       "      <td>Burlington<\/td>\n",
       "      <td>...<\/td>\n",
       "      <td>NaN<\/td>\n",
       "      <td>East<\/td>\n",
       "      <td>OFF-AP-10000828<\/td>\n",
       "      <td>Office Supplies<\/td>\n",
       "      <td>Appliances<\/td>\n",
       "      <td>Avanti 4.4 Cu. Ft. Refrigerator<\/td>\n",
       "      <td>542.94<\/td>\n",
       "      <td>3<\/td>\n",
       "      <td>0.0<\/td>\n",
       "      <td>152.0232<\/td>\n",
       "    <\/tr>\n",
       "    <tr>\n",
       "      <th>9389<\/th>\n",
       "      <td>9390<\/td>\n",
       "      <td>US-2020-127292<\/td>\n",
       "      <td>2020-01-19<\/td>\n",
       "      <td>2020-01-23<\/td>\n",
       "      <td>Standard Class<\/td>\n",
       "      <td>RM-19375<\/td>\n",
       "      <td>Raymond Messe<\/td>\n",
       "      <td>Consumer<\/td>\n",
       "      <td>United States<\/td>\n",
       "      <td>Burlington<\/td>\n",
       "      <td>...<\/td>\n",
       "      <td>NaN<\/td>\n",
       "      <td>East<\/td>\n",
       "      <td>OFF-EN-10001509<\/td>\n",
       "      <td>Office Supplies<\/td>\n",
       "      <td>Envelopes<\/td>\n",
       "      <td>Poly String Tie Envelopes<\/td>\n",
       "      <td>2.04<\/td>\n",
       "      <td>1<\/td>\n",
       "      <td>0.0<\/td>\n",
       "      <td>0.9588<\/td>\n",
       "    <\/tr>\n",
       "    <tr>\n",
       "      <th>9741<\/th>\n",
       "      <td>9742<\/td>\n",
       "      <td>CA-2018-117086<\/td>\n",
       "      <td>2018-11-08<\/td>\n",
       "      <td>2018-11-12<\/td>\n",
       "      <td>Standard Class<\/td>\n",
       "      <td>QJ-19255<\/td>\n",
       "      <td>Quincy Jones<\/td>\n",
       "      <td>Corporate<\/td>\n",
       "      <td>United States<\/td>\n",
       "      <td>Burlington<\/td>\n",
       "      <td>...<\/td>\n",
       "      <td>NaN<\/td>\n",
       "      <td>East<\/td>\n",
       "      <td>FUR-BO-10004834<\/td>\n",
       "      <td>Furniture<\/td>\n",
       "      <td>Bookcases<\/td>\n",
       "      <td>Riverside Palais Royal Lawyers Bookcase, Royal...<\/td>\n",
       "      <td>4404.90<\/td>\n",
       "      <td>5<\/td>\n",
       "      <td>0.0<\/td>\n",
       "      <td>1013.1270<\/td>\n",
       "    <\/tr>\n",
       "  <\/tbody>\n",
       "<\/table>\n",
       "<p>11 rows × 21 columns<\/p>\n",
       "<\/div>"
      ]
     },
     "metadata":{
      
     },
     "output_type":"display_data"
    }
   ],
   "metadata":{
    "datalore":{
     "node_id":"CSUrKmau8kTTChUjjS7RRl",
     "type":"CODE",
     "hide_input_from_viewers":false,
     "hide_output_from_viewers":false,
     "report_properties":{
      "rowId":"3XwKwMnW1Zc8OQ9aYnlHrB"
     }
    }
   }
  },
  {
   "cell_type":"code",
   "source":[
    "# TODO - Explore this dataset on your owns, ask your own questions\n",
    "df['State'].unique()"
   ],
   "execution_count":11,
   "outputs":[
    {
     "data":{
      "text\/html":[
       "<pre>array(['Kentucky', 'California', 'Florida', 'North Carolina',\n",
       "       'Washington', 'Texas', 'Wisconsin', 'Utah', 'Nebraska',\n",
       "       'Pennsylvania', 'Illinois', 'Minnesota', 'Michigan', 'Delaware',\n",
       "       'Indiana', 'New York', 'Arizona', 'Virginia', 'Tennessee',\n",
       "       'Alabama', 'South Carolina', 'Oregon', 'Colorado', 'Iowa', 'Ohio',\n",
       "       'Missouri', 'Oklahoma', 'New Mexico', 'Louisiana', 'Connecticut',\n",
       "       'New Jersey', 'Massachusetts', 'Georgia', 'Nevada', 'Rhode Island',\n",
       "       'Mississippi', 'Arkansas', 'Montana', 'New Hampshire', 'Maryland',\n",
       "       'District of Columbia', 'Kansas', 'Vermont', 'Maine',\n",
       "       'South Dakota', 'Idaho', 'North Dakota', 'Wyoming',\n",
       "       'West Virginia'], dtype=object)<\/pre>"
      ]
     },
     "metadata":{
      
     },
     "output_type":"display_data"
    }
   ],
   "metadata":{
    "datalore":{
     "node_id":"XLrFbexitE8ojGSg8SBllh",
     "type":"CODE",
     "hide_input_from_viewers":false,
     "hide_output_from_viewers":false,
     "report_properties":{
      "rowId":"H4eCLI5dxtFdE9pAW1Bdp8"
     }
    }
   }
  },
  {
   "cell_type":"markdown",
   "source":[
    "## Data Analysis Part\n",
    "\n",
    "Answer 10 below questions to get credit from this course. Write `pandas` code to find answers."
   ],
   "attachments":{
    
   },
   "metadata":{
    "datalore":{
     "node_id":"GtvMbYsIfMMI5KsL5RSkoN",
     "type":"MD",
     "hide_input_from_viewers":false,
     "hide_output_from_viewers":false,
     "report_properties":{
      "rowId":"GUD3FOrkbIazIUz3xQbqUM"
     }
    }
   }
  },
  {
   "cell_type":"code",
   "source":[
    "# TODO 01 - how many columns, rows in this dataset\n",
    "df.shape"
   ],
   "execution_count":12,
   "outputs":[
    {
     "data":{
      "text\/plain":[
       "(9994, 21)"
      ]
     },
     "metadata":{
      
     },
     "output_type":"display_data"
    }
   ],
   "metadata":{
    "datalore":{
     "node_id":"LVwYRXp6EfTyAA5P083uQe",
     "type":"CODE",
     "hide_input_from_viewers":false,
     "hide_output_from_viewers":false,
     "report_properties":{
      "rowId":"qCOHpv193lBBkBO9PMM2ul"
     }
    }
   }
  },
  {
   "cell_type":"code",
   "source":[
    "# TODO 02 - is there any missing values?, if there is, which colunm? how many nan values?\n",
    "df.isna().sum()"
   ],
   "execution_count":13,
   "outputs":[
    {
     "data":{
      "text\/html":[
       "<pre>Row ID             0\n",
       "Order ID           0\n",
       "Order Date         0\n",
       "Ship Date          0\n",
       "Ship Mode          0\n",
       "Customer ID        0\n",
       "Customer Name      0\n",
       "Segment            0\n",
       "Country\/Region     0\n",
       "City               0\n",
       "State              0\n",
       "Postal Code       11\n",
       "Region             0\n",
       "Product ID         0\n",
       "Category           0\n",
       "Sub-Category       0\n",
       "Product Name       0\n",
       "Sales              0\n",
       "Quantity           0\n",
       "Discount           0\n",
       "Profit             0\n",
       "dtype: int64<\/pre>"
      ]
     },
     "metadata":{
      
     },
     "output_type":"display_data"
    }
   ],
   "metadata":{
    "datalore":{
     "node_id":"B8V8cc6UYpjIv4LoyPr9r7",
     "type":"CODE",
     "hide_input_from_viewers":false,
     "hide_output_from_viewers":false,
     "report_properties":{
      "rowId":"tsFcFazAc0hWAWXIpU7hvy"
     }
    }
   }
  },
  {
   "cell_type":"code",
   "source":[
    "# TODO 03 - your friend ask for `California` data, filter it and export csv for him\n",
    "df_California = df[df['State'] == 'California']\n",
    "\n",
    "df_California.to_csv('Store_California.csv')"
   ],
   "execution_count":14,
   "outputs":[
    
   ],
   "metadata":{
    "datalore":{
     "node_id":"l7DC4ePoE3ouEBdmBqKDfs",
     "type":"CODE",
     "hide_input_from_viewers":false,
     "hide_output_from_viewers":false,
     "report_properties":{
      "rowId":"MiJesOHnPFGUFS5r32tIuk"
     }
    }
   }
  },
  {
   "cell_type":"code",
   "source":[
    "# TODO 04 - your friend ask for all order data in `California` and `Texas` in 2017 (look at Order Date), send him csv file\n",
    "CalTex = df.query('State == \"California\" or State == \"Texas\"')\n",
    "CalTex_2017 = CalTex[CalTex['Order Date'].dt.strftime('%Y') == '2017']\n",
    "\n",
    "CalTex_2017.to_csv('CalTex_2017.csv')"
   ],
   "execution_count":15,
   "outputs":[
    
   ],
   "metadata":{
    "datalore":{
     "node_id":"cT8gRBU3T8DZeyZS2eMyRv",
     "type":"CODE",
     "hide_input_from_viewers":false,
     "hide_output_from_viewers":false,
     "report_properties":{
      "rowId":"kcV2If0HjsAhU6gtl6nhUX"
     }
    }
   }
  },
  {
   "cell_type":"code",
   "source":[
    "# TODO 05 - how much total sales, average sales, and standard deviation of sales your company make in 2017\n",
    "df[df['Order Date'].dt.strftime('%Y') == '2017']['Sales'].agg(['sum', 'mean', 'std'])"
   ],
   "execution_count":16,
   "outputs":[
    {
     "data":{
      "text\/html":[
       "<pre>sum     484247.498100\n",
       "mean       242.974159\n",
       "std        754.053357\n",
       "Name: Sales, dtype: float64<\/pre>"
      ]
     },
     "metadata":{
      
     },
     "output_type":"display_data"
    }
   ],
   "metadata":{
    "datalore":{
     "node_id":"eGgCASsI4edr3yClZDwYrZ",
     "type":"CODE",
     "hide_input_from_viewers":false,
     "hide_output_from_viewers":false,
     "report_properties":{
      "rowId":"eqcGys5t2FSiHCb42ZLhXq"
     }
    }
   }
  },
  {
   "cell_type":"code",
   "source":[
    "# TODO 06 - which Segment has the highest profit in 2018\n",
    "df[df['Order Date'].dt.strftime('%Y') == '2018'].groupby('Segment')['Profit'].sum()"
   ],
   "execution_count":17,
   "outputs":[
    {
     "data":{
      "text\/html":[
       "<pre>Segment\n",
       "Consumer       28460.1665\n",
       "Corporate      20688.3248\n",
       "Home Office    12470.1124\n",
       "Name: Profit, dtype: float64<\/pre>"
      ]
     },
     "metadata":{
      
     },
     "output_type":"display_data"
    }
   ],
   "metadata":{
    "datalore":{
     "node_id":"LJF4C1xovwNSZhinNdzKYt",
     "type":"CODE",
     "hide_input_from_viewers":false,
     "hide_output_from_viewers":false,
     "report_properties":{
      "rowId":"ypW4TZD9r0uK1nbMpW5wqc"
     }
    }
   }
  },
  {
   "cell_type":"code",
   "source":[
    "# TODO 07 - which top 5 States have the least total sales between 15 April 2019 - 31 December 2019\n",
    "state_sales = df[(df['Order Date'] > '2019-04-14') & (df['Order Date'] < '2020-01-01')]\\\n",
    "    .groupby('State')['Sales'].sum().reset_index()\n",
    "\n",
    "state_sales = pd.DataFrame(state_sales)\n",
    "state_least_sales = state_sales.sort_values('Sales').head()\n",
    "\n",
    "state_least_sales"
   ],
   "execution_count":18,
   "outputs":[
    {
     "data":{
      "text\/html":[
       "<div>\n",
       "<style scoped>\n",
       "    .dataframe tbody tr th:only-of-type {\n",
       "        vertical-align: middle;\n",
       "    }\n",
       "\n",
       "    .dataframe tbody tr th {\n",
       "        vertical-align: top;\n",
       "    }\n",
       "\n",
       "    .dataframe thead th {\n",
       "        text-align: right;\n",
       "    }\n",
       "<\/style>\n",
       "<table border=\"1\" class=\"dataframe\">\n",
       "  <thead>\n",
       "    <tr style=\"text-align: right;\">\n",
       "      <th><\/th>\n",
       "      <th>State<\/th>\n",
       "      <th>Sales<\/th>\n",
       "    <\/tr>\n",
       "  <\/thead>\n",
       "  <tbody>\n",
       "    <tr>\n",
       "      <th>26<\/th>\n",
       "      <td>New Hampshire<\/td>\n",
       "      <td>49.05<\/td>\n",
       "    <\/tr>\n",
       "    <tr>\n",
       "      <th>28<\/th>\n",
       "      <td>New Mexico<\/td>\n",
       "      <td>64.08<\/td>\n",
       "    <\/tr>\n",
       "    <tr>\n",
       "      <th>7<\/th>\n",
       "      <td>District of Columbia<\/td>\n",
       "      <td>117.07<\/td>\n",
       "    <\/tr>\n",
       "    <tr>\n",
       "      <th>16<\/th>\n",
       "      <td>Louisiana<\/td>\n",
       "      <td>249.80<\/td>\n",
       "    <\/tr>\n",
       "    <tr>\n",
       "      <th>36<\/th>\n",
       "      <td>South Carolina<\/td>\n",
       "      <td>502.48<\/td>\n",
       "    <\/tr>\n",
       "  <\/tbody>\n",
       "<\/table>\n",
       "<\/div>"
      ]
     },
     "metadata":{
      
     },
     "output_type":"display_data"
    }
   ],
   "metadata":{
    "datalore":{
     "node_id":"hgTasonKNiBi9Pg6BzYfB9",
     "type":"CODE",
     "hide_input_from_viewers":false,
     "hide_output_from_viewers":false,
     "report_properties":{
      "rowId":"Row7Ly1M9oIEBKDNKDTLBX"
     }
    }
   }
  },
  {
   "cell_type":"code",
   "source":[
    "# TODO 08 - what is the proportion of total sales (%) in West + Central in 2019 e.g. 25% \n",
    "\n",
    "# total sales in 2019\n",
    "total_sales_2019 = df[df['Order Date'].dt.strftime('%Y') == '2019']['Sales'].sum()\n",
    "\n",
    "\n",
    "# proportion of total sales (%) West + Central in 2019\n",
    "west_sales = df[(df['Order Date'].dt.strftime('%Y') == '2019') & (df['Region'] == 'West')]['Sales'].sum()\n",
    "central_sales = df[(df['Order Date'].dt.strftime('%Y') == '2019') & (df['Region'] == 'Central')]['Sales'].sum()\n",
    "west_cen_2019 = round(((west_sales+central_sales)\/total_sales_2019)*100)\n",
    "\n",
    "print(f\"Proportion of total saless in West + Central in 2019: {west_cen_2019}%\")\n"
   ],
   "execution_count":48,
   "outputs":[
    {
     "name":"stdout",
     "text":[
      "Proportion of total saless in West + Central in 2019: 55%\n"
     ],
     "output_type":"stream"
    }
   ],
   "metadata":{
    "datalore":{
     "node_id":"tXcFetYZwrQm5vceTp1iY1",
     "type":"CODE",
     "hide_input_from_viewers":false,
     "hide_output_from_viewers":false,
     "report_properties":{
      "rowId":"iuoJliZMiSOf2BBmP2ccme"
     }
    }
   }
  },
  {
   "cell_type":"code",
   "source":[
    "# TODO 09 - find top 10 popular products in terms of number of orders vs. total sales during 2019-2020\n",
    "## number of orders\n",
    "products_num = df[(df['Order Date'].dt.strftime('%Y') == '2019') | (df['Order Date'].dt.strftime('%Y') == '2020')]\\\n",
    "    .groupby('Product Name')['Quantity'].sum()\n",
    "\n",
    "products_num = pd.DataFrame(products_num)\n",
    "\n",
    "\n",
    "## product sales\n",
    "products_sales = df[(df['Order Date'].dt.strftime('%Y') == '2019') | (df['Order Date'].dt.strftime('%Y') == '2020')]\\\n",
    "    .groupby('Product Name')['Sales'].sum()\n",
    "\n",
    "products_sales = pd.DataFrame(products_sales)\n",
    "\n",
    "\n",
    "## top 10 popular products in terms of number of orders\n",
    "products_topquan = products_num.sort_values('Quantity', ascending=False).reset_index().head(10)\n",
    "\n",
    "\n",
    "\n",
    "## top 10 popular products in terms of number of total sales\n",
    "products_topsales = products_sales.sort_values('Sales', ascending=False).reset_index().head(10)\n",
    "\n",
    "print(products_topquan)\n",
    "print(products_topsales)\n",
    "\n",
    "\n"
   ],
   "execution_count":116,
   "outputs":[
    {
     "name":"stdout",
     "text":[
      "                                        Product Name  Quantity\n",
      "0                                            Staples       124\n",
      "1                                  Easy-staple paper        89\n",
      "2                                    Staple envelope        73\n",
      "3                            Staples in misc. colors        60\n",
      "4                 Chromcraft Round Conference Tables        59\n",
      "5                            Storex Dura Pro Binders        49\n",
      "6         Situations Contoured Folding Chairs, 4\/Set        47\n",
      "7  Wilson Jones Clip & Carry Folder Binder Tool f...        44\n",
      "8                            Avery Non-Stick Binders        43\n",
      "9                        Eldon Wave Desk Accessories        42\n",
      "                                        Product Name      Sales\n",
      "0              Canon imageCLASS 2200 Advanced Copier  61599.824\n",
      "1               Hewlett Packard LaserJet 3310 Copier  16079.732\n",
      "2   3D Systems Cube Printer, 2nd Generation, Magenta  14299.890\n",
      "3   GBC Ibimaster 500 Manual ProClick Binding System  13621.542\n",
      "4         GBC DocuBind TL300 Electric Binding System  12737.258\n",
      "5          GBC DocuBind P400 Electric Binding System  12521.108\n",
      "6                            Samsung Galaxy Mega 6.3  12263.708\n",
      "7       HON 5400 Series Task Chairs for Big and Tall  11846.562\n",
      "8  Martin Yale Chadless Opener Electric Letter Op...  11825.902\n",
      "9      Global Troy Executive Leather Low-Back Tilter  10169.894\n"
     ],
     "output_type":"stream"
    }
   ],
   "metadata":{
    "datalore":{
     "node_id":"KDLkNQHHWNvc7vrtQvOcGJ",
     "type":"CODE",
     "hide_input_from_viewers":false,
     "hide_output_from_viewers":false,
     "report_properties":{
      "rowId":"1zIavChV25tIfu6upBk04T"
     }
    }
   }
  },
  {
   "cell_type":"code",
   "source":[
    "# TODO 10 - plot at least 2 plots, any plot you think interesting :)\n",
    "## Sales of eac region in 2019\n",
    "region_sales2020 = df[df['Order Date'].dt.strftime('%Y') == '2020'].groupby('Region')['Sales'].sum()\n",
    "region_sales2020 = pd.DataFrame(region_sales2020)\n",
    "\n",
    "region_sales2020.sort_values('Sales').plot(kind='bar')"
   ],
   "execution_count":132,
   "outputs":[
    {
     "data":{
      "text\/plain":[
       "<Axes: xlabel='Region'>"
      ]
     },
     "metadata":{
      
     },
     "output_type":"display_data"
    },
    {
     "data":{
      "image\/png":"[encoded data removed]"
     },
     "metadata":{
      "image\/png":{
       
      }
     },
     "output_type":"display_data"
    }
   ],
   "metadata":{
    "datalore":{
     "node_id":"e85wifQCuljvTqnP5rwjLs",
     "type":"CODE",
     "hide_input_from_viewers":false,
     "hide_output_from_viewers":false,
     "report_properties":{
      "rowId":"qjPSrFFIRvI7qWB3RNE9FP"
     }
    }
   }
  },
  {
   "cell_type":"code",
   "source":[
    "## Profits in each year\n",
    "profits = df.groupby(df['Order Date'].dt.year)['Profit'].sum()\n",
    "\n",
    "profits.plot(color='orange')"
   ],
   "execution_count":143,
   "outputs":[
    {
     "data":{
      "text\/plain":[
       "<Axes: xlabel='Order Date'>"
      ]
     },
     "metadata":{
      
     },
     "output_type":"display_data"
    },
    {
     "data":{
      "image\/png":"[encoded data removed]"
     },
     "metadata":{
      "image\/png":{
       
      }
     },
     "output_type":"display_data"
    }
   ],
   "metadata":{
    "datalore":{
     "node_id":"pX1eOUTnJYpZmfyPJa0Dd4",
     "type":"CODE",
     "hide_input_from_viewers":true,
     "hide_output_from_viewers":true
    }
   }
  },
  {
   "cell_type":"code",
   "source":[
    "# TODO Bonus - use np.where() to create new column in dataframe to help you answer your own questions\n",
    "# which product should be cancalled from selling? If less than 500 - Cancal, If more than 500 - continue to sell\n",
    "\n",
    "sum_products = df.groupby('Product Name')['Sales'].sum().reset_index()\n",
    "\n",
    "import numpy as np\n",
    "\n",
    "sum_products['Sell Status'] = np.where(sum_products['Sales'] <= 500, 'Cancal', 'Continue')\n",
    "sum_products"
   ],
   "execution_count":203,
   "outputs":[
    {
     "data":{
      "text\/html":[
       "<div>\n",
       "<style scoped>\n",
       "    .dataframe tbody tr th:only-of-type {\n",
       "        vertical-align: middle;\n",
       "    }\n",
       "\n",
       "    .dataframe tbody tr th {\n",
       "        vertical-align: top;\n",
       "    }\n",
       "\n",
       "    .dataframe thead th {\n",
       "        text-align: right;\n",
       "    }\n",
       "<\/style>\n",
       "<table border=\"1\" class=\"dataframe\">\n",
       "  <thead>\n",
       "    <tr style=\"text-align: right;\">\n",
       "      <th><\/th>\n",
       "      <th>Product Name<\/th>\n",
       "      <th>Sales<\/th>\n",
       "      <th>Sell Status<\/th>\n",
       "    <\/tr>\n",
       "  <\/thead>\n",
       "  <tbody>\n",
       "    <tr>\n",
       "      <th>0<\/th>\n",
       "      <td>\"While you Were Out\" Message Book, One Form pe...<\/td>\n",
       "      <td>25.228<\/td>\n",
       "      <td>Cancal<\/td>\n",
       "    <\/tr>\n",
       "    <tr>\n",
       "      <th>1<\/th>\n",
       "      <td>#10 Gummed Flap White Envelopes, 100\/Box<\/td>\n",
       "      <td>41.300<\/td>\n",
       "      <td>Cancal<\/td>\n",
       "    <\/tr>\n",
       "    <tr>\n",
       "      <th>2<\/th>\n",
       "      <td>#10 Self-Seal White Envelopes<\/td>\n",
       "      <td>108.682<\/td>\n",
       "      <td>Cancal<\/td>\n",
       "    <\/tr>\n",
       "    <tr>\n",
       "      <th>3<\/th>\n",
       "      <td>#10 White Business Envelopes,4 1\/8 x 9 1\/2<\/td>\n",
       "      <td>488.904<\/td>\n",
       "      <td>Cancal<\/td>\n",
       "    <\/tr>\n",
       "    <tr>\n",
       "      <th>4<\/th>\n",
       "      <td>#10- 4 1\/8\" x 9 1\/2\" Recycled Envelopes<\/td>\n",
       "      <td>286.672<\/td>\n",
       "      <td>Cancal<\/td>\n",
       "    <\/tr>\n",
       "    <tr>\n",
       "      <th>...<\/th>\n",
       "      <td>...<\/td>\n",
       "      <td>...<\/td>\n",
       "      <td>...<\/td>\n",
       "    <\/tr>\n",
       "    <tr>\n",
       "      <th>1844<\/th>\n",
       "      <td>iKross Bluetooth Portable Keyboard + Cell Phon...<\/td>\n",
       "      <td>477.660<\/td>\n",
       "      <td>Cancal<\/td>\n",
       "    <\/tr>\n",
       "    <tr>\n",
       "      <th>1845<\/th>\n",
       "      <td>iOttie HLCRIO102 Car Mount<\/td>\n",
       "      <td>215.892<\/td>\n",
       "      <td>Cancal<\/td>\n",
       "    <\/tr>\n",
       "    <tr>\n",
       "      <th>1846<\/th>\n",
       "      <td>iOttie XL Car Mount<\/td>\n",
       "      <td>223.888<\/td>\n",
       "      <td>Cancal<\/td>\n",
       "    <\/tr>\n",
       "    <tr>\n",
       "      <th>1847<\/th>\n",
       "      <td>invisibleSHIELD by ZAGG Smudge-Free Screen Pro...<\/td>\n",
       "      <td>442.554<\/td>\n",
       "      <td>Cancal<\/td>\n",
       "    <\/tr>\n",
       "    <tr>\n",
       "      <th>1848<\/th>\n",
       "      <td>netTALK DUO VoIP Telephone Service<\/td>\n",
       "      <td>1112.788<\/td>\n",
       "      <td>Continue<\/td>\n",
       "    <\/tr>\n",
       "  <\/tbody>\n",
       "<\/table>\n",
       "<p>1849 rows × 3 columns<\/p>\n",
       "<\/div>"
      ]
     },
     "metadata":{
      
     },
     "output_type":"display_data"
    }
   ],
   "metadata":{
    "datalore":{
     "node_id":"T52z12sWEWMx9ybbef1Drn",
     "type":"CODE",
     "hide_input_from_viewers":false,
     "hide_output_from_viewers":false,
     "report_properties":{
      "rowId":"tmzpdvm8v26ZNF1eqU7uKa"
     }
    }
   }
  },
  {
   "cell_type":"code",
   "source":[
    
   ],
   "execution_count":null,
   "outputs":[
    
   ],
   "metadata":{
    "datalore":{
     "node_id":"BDcFTku9Pqd1xbbZT3LKba",
     "type":"CODE",
     "hide_input_from_viewers":true,
     "hide_output_from_viewers":true
    }
   }
  }
 ],
 "metadata":{
  "kernelspec":{
   "display_name":"Python",
   "language":"python",
   "name":"python"
  },
  "datalore":{
   "computation_mode":"JUPYTER",
   "package_manager":"pip",
   "base_environment":"default",
   "packages":[
    
   ],
   "report_row_ids":[
    "mSAxnVK0PFgVKw9xWe7QRQ",
    "Dfu5SQ8OxGH5R1o5Oj7HGW",
    "VF1r67appkG0sdeHuEX3Yf",
    "1dqScwNAgAnF5dX29Db6Ck",
    "0A4lR69EGorjnTvMDbh17Q",
    "I696jpQ0XlYGiKMhQlghJq",
    "vJBovOIAGKlLR9YyNIG70W",
    "7464q7Mtu7ahDSLqF2z5IU",
    "NHsXdJVKZ1HAmhxa7yPwnq",
    "3XwKwMnW1Zc8OQ9aYnlHrB",
    "H4eCLI5dxtFdE9pAW1Bdp8",
    "GUD3FOrkbIazIUz3xQbqUM",
    "qCOHpv193lBBkBO9PMM2ul",
    "tsFcFazAc0hWAWXIpU7hvy",
    "MiJesOHnPFGUFS5r32tIuk",
    "kcV2If0HjsAhU6gtl6nhUX",
    "eqcGys5t2FSiHCb42ZLhXq",
    "ypW4TZD9r0uK1nbMpW5wqc",
    "Row7Ly1M9oIEBKDNKDTLBX",
    "iuoJliZMiSOf2BBmP2ccme",
    "1zIavChV25tIfu6upBk04T",
    "qjPSrFFIRvI7qWB3RNE9FP",
    "tmzpdvm8v26ZNF1eqU7uKa"
   ],
   "version":3
  }
 },
 "nbformat":4,
 "nbformat_minor":4
}