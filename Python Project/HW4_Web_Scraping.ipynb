{
  "nbformat": 4,
  "nbformat_minor": 0,
  "metadata": {
    "colab": {
      "provenance": []
    },
    "kernelspec": {
      "name": "python3",
      "display_name": "Python 3"
    },
    "language_info": {
      "name": "python"
    }
  },
  "cells": [
    {
      "cell_type": "markdown",
      "source": [
        "# Web Scraping - Get titles, ratings, and launched years from IMDB\n",
        "\n",
        "**Course** Python - Data Science Bootcamp"
      ],
      "metadata": {
        "id": "71GlQEYX04Up"
      }
    },
    {
      "cell_type": "code",
      "execution_count": 1,
      "metadata": {
        "colab": {
          "base_uri": "https://localhost:8080/"
        },
        "id": "Jmd_nZOhy1rq",
        "outputId": "93197282-2b65-4ecd-c1b3-412d9e26194d"
      },
      "outputs": [
        {
          "output_type": "stream",
          "name": "stdout",
          "text": [
            "Collecting gazpacho\n",
            "  Downloading gazpacho-1.1.tar.gz (7.9 kB)\n",
            "  Installing build dependencies ... \u001b[?25l\u001b[?25hdone\n",
            "  Getting requirements to build wheel ... \u001b[?25l\u001b[?25hdone\n",
            "  Preparing metadata (pyproject.toml) ... \u001b[?25l\u001b[?25hdone\n",
            "Building wheels for collected packages: gazpacho\n",
            "  Building wheel for gazpacho (pyproject.toml) ... \u001b[?25l\u001b[?25hdone\n",
            "  Created wheel for gazpacho: filename=gazpacho-1.1-py3-none-any.whl size=7461 sha256=ec8df46db24b0a6f57cc7e3f535fbf15c5edf8e682b25329a75e68cb0ffc8886\n",
            "  Stored in directory: /root/.cache/pip/wheels/9b/bf/9f/8c8849499462415fa5cdf0d9edb1103c189bdbece90c51488e\n",
            "Successfully built gazpacho\n",
            "Installing collected packages: gazpacho\n",
            "Successfully installed gazpacho-1.1\n"
          ]
        }
      ],
      "source": [
        "## install gapazpacho\n",
        "\n",
        "!pip install gazpacho"
      ]
    },
    {
      "cell_type": "code",
      "source": [
        "!pip list | grep \"gaz\""
      ],
      "metadata": {
        "colab": {
          "base_uri": "https://localhost:8080/"
        },
        "id": "4iQYLbbt1WaS",
        "outputId": "3bd8cc30-59d6-48f4-d251-b34f276c6909"
      },
      "execution_count": 2,
      "outputs": [
        {
          "output_type": "stream",
          "name": "stdout",
          "text": [
            "gazpacho                         1.1\n"
          ]
        }
      ]
    },
    {
      "cell_type": "code",
      "source": [
        "from gazpacho import Soup\n",
        "import requests\n",
        "\n",
        "url = \"https://www.imdb.com/search/title/?groups=top_100&sort=user_rating,desc\"\n",
        "\n",
        "html = requests.get(url)\n",
        "\n",
        "html"
      ],
      "metadata": {
        "colab": {
          "base_uri": "https://localhost:8080/"
        },
        "id": "mKo20hIJ1mvJ",
        "outputId": "94f0b088-5333-4929-f943-7a8d8699cd70"
      },
      "execution_count": 4,
      "outputs": [
        {
          "output_type": "execute_result",
          "data": {
            "text/plain": [
              "<Response [200]>"
            ]
          },
          "metadata": {},
          "execution_count": 4
        }
      ]
    },
    {
      "cell_type": "code",
      "source": [
        "imdb = Soup(html.text)"
      ],
      "metadata": {
        "id": "LL-hJpsV2hwa"
      },
      "execution_count": 10,
      "outputs": []
    },
    {
      "cell_type": "code",
      "source": [
        "## get title data\n",
        "titles = imdb.find(\"h3\", {\"class\": \"lister-item-header\"})\n",
        "\n",
        "clean_titles = [title.strip() for title in titles]\n",
        "\n",
        "clean_titles"
      ],
      "metadata": {
        "colab": {
          "base_uri": "https://localhost:8080/"
        },
        "id": "WC7tQarF22kV",
        "outputId": "2917dcbf-390a-4e58-a5a4-16b3385d67a7"
      },
      "execution_count": 6,
      "outputs": [
        {
          "output_type": "execute_result",
          "data": {
            "text/plain": [
              "['1. The Shawshank Redemption (1994)',\n",
              " '2. The Godfather (1972)',\n",
              " '3. The Dark Knight (2008)',\n",
              " \"4. Schindler's List (1993)\",\n",
              " '5. The Lord of the Rings: The Return of the King (2003)',\n",
              " '6. The Godfather Part II (1974)',\n",
              " '7. 12 Angry Men (1957)',\n",
              " '8. Pulp Fiction (1994)',\n",
              " '9. Fight Club (1999)',\n",
              " '10. The Lord of the Rings: The Fellowship of the Ring (2001)',\n",
              " '11. Inception (2010)',\n",
              " '12. Forrest Gump (1994)',\n",
              " '13. The Lord of the Rings: The Two Towers (2002)',\n",
              " '14. The Good, the Bad and the Ugly (1966)',\n",
              " '15. Spider-Man: Across the Spider-Verse (2023)',\n",
              " '16. Interstellar (2014)',\n",
              " '17. Goodfellas (1990)',\n",
              " '18. The Matrix (1999)',\n",
              " \"19. One Flew Over the Cuckoo's Nest (1975)\",\n",
              " '20. Star Wars: Episode V - The Empire Strikes Back (1980)',\n",
              " '21. The Silence of the Lambs (1991)',\n",
              " '22. Se7en (1995)',\n",
              " '23. Spirited Away (2001)',\n",
              " '24. Saving Private Ryan (1998)',\n",
              " '25. The Green Mile (1999)',\n",
              " '26. Star Wars: Episode IV - A New Hope (1977)',\n",
              " '27. City of God (2002)',\n",
              " '28. Terminator 2: Judgment Day (1991)',\n",
              " '29. Life Is Beautiful (1997)',\n",
              " \"30. It's a Wonderful Life (1946)\",\n",
              " '31. Seven Samurai (1954)',\n",
              " '32. Harakiri (1962)',\n",
              " '33. Oppenheimer (I) (2023)',\n",
              " '34. Whiplash (2014)',\n",
              " '35. Alien (1979)',\n",
              " '36. Gladiator (2000)',\n",
              " '37. Psycho (1960)',\n",
              " '38. Back to the Future (1985)',\n",
              " '39. The Departed (2006)',\n",
              " '40. Parasite (2019)',\n",
              " '41. The Prestige (2006)',\n",
              " '42. Léon: The Professional (1994)',\n",
              " '43. Django Unchained (2012)',\n",
              " '44. American History X (1998)',\n",
              " '45. The Lion King (1994)',\n",
              " '46. The Usual Suspects (1995)',\n",
              " '47. The Pianist (2002)',\n",
              " '48. The Intouchables (2011)',\n",
              " '49. Casablanca (1942)',\n",
              " '50. Rear Window (1954)']"
            ]
          },
          "metadata": {},
          "execution_count": 6
        }
      ]
    },
    {
      "cell_type": "code",
      "source": [
        "## get rating data\n",
        "ratings = imdb.find(\"div\", {\"class\": \"ratings-imdb-rating\"})\n",
        "\n",
        "clean_ratings = [rating.strip() for rating in ratings]\n",
        "\n",
        "clean_ratings"
      ],
      "metadata": {
        "colab": {
          "base_uri": "https://localhost:8080/"
        },
        "id": "D_HwHgl-4Vsd",
        "outputId": "71eae205-dbd5-41fa-874e-dfa63afdb731"
      },
      "execution_count": 7,
      "outputs": [
        {
          "output_type": "execute_result",
          "data": {
            "text/plain": [
              "['9.3',\n",
              " '9.2',\n",
              " '9.0',\n",
              " '9.0',\n",
              " '9.0',\n",
              " '9.0',\n",
              " '9.0',\n",
              " '8.9',\n",
              " '8.8',\n",
              " '8.8',\n",
              " '8.8',\n",
              " '8.8',\n",
              " '8.8',\n",
              " '8.8',\n",
              " '8.7',\n",
              " '8.7',\n",
              " '8.7',\n",
              " '8.7',\n",
              " '8.7',\n",
              " '8.7',\n",
              " '8.6',\n",
              " '8.6',\n",
              " '8.6',\n",
              " '8.6',\n",
              " '8.6',\n",
              " '8.6',\n",
              " '8.6',\n",
              " '8.6',\n",
              " '8.6',\n",
              " '8.6',\n",
              " '8.6',\n",
              " '8.6',\n",
              " '8.5',\n",
              " '8.5',\n",
              " '8.5',\n",
              " '8.5',\n",
              " '8.5',\n",
              " '8.5',\n",
              " '8.5',\n",
              " '8.5',\n",
              " '8.5',\n",
              " '8.5',\n",
              " '8.5',\n",
              " '8.5',\n",
              " '8.5',\n",
              " '8.5',\n",
              " '8.5',\n",
              " '8.5',\n",
              " '8.5',\n",
              " '8.5']"
            ]
          },
          "metadata": {},
          "execution_count": 7
        }
      ]
    },
    {
      "cell_type": "code",
      "source": [
        "## get launched year data\n",
        "years = imdb.find(\"span\", {\"class\": \"lister-item-year\"})\n",
        "\n",
        "clean_years = [year.strip() for year in years]\n",
        "\n",
        "clean_years"
      ],
      "metadata": {
        "colab": {
          "base_uri": "https://localhost:8080/"
        },
        "id": "_75vaw3L5jQ3",
        "outputId": "f8334243-d99e-4ac1-bd6f-5f7fd372f359"
      },
      "execution_count": 8,
      "outputs": [
        {
          "output_type": "execute_result",
          "data": {
            "text/plain": [
              "['(1994)',\n",
              " '(1972)',\n",
              " '(2008)',\n",
              " '(1993)',\n",
              " '(2003)',\n",
              " '(1974)',\n",
              " '(1957)',\n",
              " '(1994)',\n",
              " '(1999)',\n",
              " '(2001)',\n",
              " '(2010)',\n",
              " '(1994)',\n",
              " '(2002)',\n",
              " '(1966)',\n",
              " '(2023)',\n",
              " '(2014)',\n",
              " '(1990)',\n",
              " '(1999)',\n",
              " '(1975)',\n",
              " '(1980)',\n",
              " '(1991)',\n",
              " '(1995)',\n",
              " '(2001)',\n",
              " '(1998)',\n",
              " '(1999)',\n",
              " '(1977)',\n",
              " '(2002)',\n",
              " '(1991)',\n",
              " '(1997)',\n",
              " '(1946)',\n",
              " '(1954)',\n",
              " '(1962)',\n",
              " '(I) (2023)',\n",
              " '(2014)',\n",
              " '(1979)',\n",
              " '(2000)',\n",
              " '(1960)',\n",
              " '(1985)',\n",
              " '(2006)',\n",
              " '(2019)',\n",
              " '(2006)',\n",
              " '(1994)',\n",
              " '(2012)',\n",
              " '(1998)',\n",
              " '(1994)',\n",
              " '(1995)',\n",
              " '(2002)',\n",
              " '(2011)',\n",
              " '(1942)',\n",
              " '(1954)']"
            ]
          },
          "metadata": {},
          "execution_count": 8
        }
      ]
    },
    {
      "cell_type": "code",
      "source": [
        "## create dataframe\n",
        "import pandas as pd\n",
        "\n",
        "movie_data = pd.DataFrame(data = {\n",
        "    \"title\": clean_titles,\n",
        "    \"rating\": clean_ratings,\n",
        "    \"launched year\": clean_years\n",
        "})\n",
        "\n",
        "movie_data.head()"
      ],
      "metadata": {
        "colab": {
          "base_uri": "https://localhost:8080/",
          "height": 206
        },
        "id": "BMtOFexq6K4w",
        "outputId": "a1efafbd-067c-4b5a-bae4-2f8efe3402fe"
      },
      "execution_count": 9,
      "outputs": [
        {
          "output_type": "execute_result",
          "data": {
            "text/plain": [
              "                                               title rating launched year\n",
              "0                 1. The Shawshank Redemption (1994)    9.3        (1994)\n",
              "1                            2. The Godfather (1972)    9.2        (1972)\n",
              "2                          3. The Dark Knight (2008)    9.0        (2008)\n",
              "3                         4. Schindler's List (1993)    9.0        (1993)\n",
              "4  5. The Lord of the Rings: The Return of the Ki...    9.0        (2003)"
            ],
            "text/html": [
              "\n",
              "  <div id=\"df-bc2e73eb-bcc5-4525-a4cb-353703d84505\" class=\"colab-df-container\">\n",
              "    <div>\n",
              "<style scoped>\n",
              "    .dataframe tbody tr th:only-of-type {\n",
              "        vertical-align: middle;\n",
              "    }\n",
              "\n",
              "    .dataframe tbody tr th {\n",
              "        vertical-align: top;\n",
              "    }\n",
              "\n",
              "    .dataframe thead th {\n",
              "        text-align: right;\n",
              "    }\n",
              "</style>\n",
              "<table border=\"1\" class=\"dataframe\">\n",
              "  <thead>\n",
              "    <tr style=\"text-align: right;\">\n",
              "      <th></th>\n",
              "      <th>title</th>\n",
              "      <th>rating</th>\n",
              "      <th>launched year</th>\n",
              "    </tr>\n",
              "  </thead>\n",
              "  <tbody>\n",
              "    <tr>\n",
              "      <th>0</th>\n",
              "      <td>1. The Shawshank Redemption (1994)</td>\n",
              "      <td>9.3</td>\n",
              "      <td>(1994)</td>\n",
              "    </tr>\n",
              "    <tr>\n",
              "      <th>1</th>\n",
              "      <td>2. The Godfather (1972)</td>\n",
              "      <td>9.2</td>\n",
              "      <td>(1972)</td>\n",
              "    </tr>\n",
              "    <tr>\n",
              "      <th>2</th>\n",
              "      <td>3. The Dark Knight (2008)</td>\n",
              "      <td>9.0</td>\n",
              "      <td>(2008)</td>\n",
              "    </tr>\n",
              "    <tr>\n",
              "      <th>3</th>\n",
              "      <td>4. Schindler's List (1993)</td>\n",
              "      <td>9.0</td>\n",
              "      <td>(1993)</td>\n",
              "    </tr>\n",
              "    <tr>\n",
              "      <th>4</th>\n",
              "      <td>5. The Lord of the Rings: The Return of the Ki...</td>\n",
              "      <td>9.0</td>\n",
              "      <td>(2003)</td>\n",
              "    </tr>\n",
              "  </tbody>\n",
              "</table>\n",
              "</div>\n",
              "    <div class=\"colab-df-buttons\">\n",
              "\n",
              "  <div class=\"colab-df-container\">\n",
              "    <button class=\"colab-df-convert\" onclick=\"convertToInteractive('df-bc2e73eb-bcc5-4525-a4cb-353703d84505')\"\n",
              "            title=\"Convert this dataframe to an interactive table.\"\n",
              "            style=\"display:none;\">\n",
              "\n",
              "  <svg xmlns=\"http://www.w3.org/2000/svg\" height=\"24px\" viewBox=\"0 -960 960 960\">\n",
              "    <path d=\"M120-120v-720h720v720H120Zm60-500h600v-160H180v160Zm220 220h160v-160H400v160Zm0 220h160v-160H400v160ZM180-400h160v-160H180v160Zm440 0h160v-160H620v160ZM180-180h160v-160H180v160Zm440 0h160v-160H620v160Z\"/>\n",
              "  </svg>\n",
              "    </button>\n",
              "\n",
              "  <style>\n",
              "    .colab-df-container {\n",
              "      display:flex;\n",
              "      gap: 12px;\n",
              "    }\n",
              "\n",
              "    .colab-df-convert {\n",
              "      background-color: #E8F0FE;\n",
              "      border: none;\n",
              "      border-radius: 50%;\n",
              "      cursor: pointer;\n",
              "      display: none;\n",
              "      fill: #1967D2;\n",
              "      height: 32px;\n",
              "      padding: 0 0 0 0;\n",
              "      width: 32px;\n",
              "    }\n",
              "\n",
              "    .colab-df-convert:hover {\n",
              "      background-color: #E2EBFA;\n",
              "      box-shadow: 0px 1px 2px rgba(60, 64, 67, 0.3), 0px 1px 3px 1px rgba(60, 64, 67, 0.15);\n",
              "      fill: #174EA6;\n",
              "    }\n",
              "\n",
              "    .colab-df-buttons div {\n",
              "      margin-bottom: 4px;\n",
              "    }\n",
              "\n",
              "    [theme=dark] .colab-df-convert {\n",
              "      background-color: #3B4455;\n",
              "      fill: #D2E3FC;\n",
              "    }\n",
              "\n",
              "    [theme=dark] .colab-df-convert:hover {\n",
              "      background-color: #434B5C;\n",
              "      box-shadow: 0px 1px 3px 1px rgba(0, 0, 0, 0.15);\n",
              "      filter: drop-shadow(0px 1px 2px rgba(0, 0, 0, 0.3));\n",
              "      fill: #FFFFFF;\n",
              "    }\n",
              "  </style>\n",
              "\n",
              "    <script>\n",
              "      const buttonEl =\n",
              "        document.querySelector('#df-bc2e73eb-bcc5-4525-a4cb-353703d84505 button.colab-df-convert');\n",
              "      buttonEl.style.display =\n",
              "        google.colab.kernel.accessAllowed ? 'block' : 'none';\n",
              "\n",
              "      async function convertToInteractive(key) {\n",
              "        const element = document.querySelector('#df-bc2e73eb-bcc5-4525-a4cb-353703d84505');\n",
              "        const dataTable =\n",
              "          await google.colab.kernel.invokeFunction('convertToInteractive',\n",
              "                                                    [key], {});\n",
              "        if (!dataTable) return;\n",
              "\n",
              "        const docLinkHtml = 'Like what you see? Visit the ' +\n",
              "          '<a target=\"_blank\" href=https://colab.research.google.com/notebooks/data_table.ipynb>data table notebook</a>'\n",
              "          + ' to learn more about interactive tables.';\n",
              "        element.innerHTML = '';\n",
              "        dataTable['output_type'] = 'display_data';\n",
              "        await google.colab.output.renderOutput(dataTable, element);\n",
              "        const docLink = document.createElement('div');\n",
              "        docLink.innerHTML = docLinkHtml;\n",
              "        element.appendChild(docLink);\n",
              "      }\n",
              "    </script>\n",
              "  </div>\n",
              "\n",
              "\n",
              "<div id=\"df-ecf5faa2-cc65-4751-9495-f1fed8f8776b\">\n",
              "  <button class=\"colab-df-quickchart\" onclick=\"quickchart('df-ecf5faa2-cc65-4751-9495-f1fed8f8776b')\"\n",
              "            title=\"Suggest charts\"\n",
              "            style=\"display:none;\">\n",
              "\n",
              "<svg xmlns=\"http://www.w3.org/2000/svg\" height=\"24px\"viewBox=\"0 0 24 24\"\n",
              "     width=\"24px\">\n",
              "    <g>\n",
              "        <path d=\"M19 3H5c-1.1 0-2 .9-2 2v14c0 1.1.9 2 2 2h14c1.1 0 2-.9 2-2V5c0-1.1-.9-2-2-2zM9 17H7v-7h2v7zm4 0h-2V7h2v10zm4 0h-2v-4h2v4z\"/>\n",
              "    </g>\n",
              "</svg>\n",
              "  </button>\n",
              "\n",
              "<style>\n",
              "  .colab-df-quickchart {\n",
              "      --bg-color: #E8F0FE;\n",
              "      --fill-color: #1967D2;\n",
              "      --hover-bg-color: #E2EBFA;\n",
              "      --hover-fill-color: #174EA6;\n",
              "      --disabled-fill-color: #AAA;\n",
              "      --disabled-bg-color: #DDD;\n",
              "  }\n",
              "\n",
              "  [theme=dark] .colab-df-quickchart {\n",
              "      --bg-color: #3B4455;\n",
              "      --fill-color: #D2E3FC;\n",
              "      --hover-bg-color: #434B5C;\n",
              "      --hover-fill-color: #FFFFFF;\n",
              "      --disabled-bg-color: #3B4455;\n",
              "      --disabled-fill-color: #666;\n",
              "  }\n",
              "\n",
              "  .colab-df-quickchart {\n",
              "    background-color: var(--bg-color);\n",
              "    border: none;\n",
              "    border-radius: 50%;\n",
              "    cursor: pointer;\n",
              "    display: none;\n",
              "    fill: var(--fill-color);\n",
              "    height: 32px;\n",
              "    padding: 0;\n",
              "    width: 32px;\n",
              "  }\n",
              "\n",
              "  .colab-df-quickchart:hover {\n",
              "    background-color: var(--hover-bg-color);\n",
              "    box-shadow: 0 1px 2px rgba(60, 64, 67, 0.3), 0 1px 3px 1px rgba(60, 64, 67, 0.15);\n",
              "    fill: var(--button-hover-fill-color);\n",
              "  }\n",
              "\n",
              "  .colab-df-quickchart-complete:disabled,\n",
              "  .colab-df-quickchart-complete:disabled:hover {\n",
              "    background-color: var(--disabled-bg-color);\n",
              "    fill: var(--disabled-fill-color);\n",
              "    box-shadow: none;\n",
              "  }\n",
              "\n",
              "  .colab-df-spinner {\n",
              "    border: 2px solid var(--fill-color);\n",
              "    border-color: transparent;\n",
              "    border-bottom-color: var(--fill-color);\n",
              "    animation:\n",
              "      spin 1s steps(1) infinite;\n",
              "  }\n",
              "\n",
              "  @keyframes spin {\n",
              "    0% {\n",
              "      border-color: transparent;\n",
              "      border-bottom-color: var(--fill-color);\n",
              "      border-left-color: var(--fill-color);\n",
              "    }\n",
              "    20% {\n",
              "      border-color: transparent;\n",
              "      border-left-color: var(--fill-color);\n",
              "      border-top-color: var(--fill-color);\n",
              "    }\n",
              "    30% {\n",
              "      border-color: transparent;\n",
              "      border-left-color: var(--fill-color);\n",
              "      border-top-color: var(--fill-color);\n",
              "      border-right-color: var(--fill-color);\n",
              "    }\n",
              "    40% {\n",
              "      border-color: transparent;\n",
              "      border-right-color: var(--fill-color);\n",
              "      border-top-color: var(--fill-color);\n",
              "    }\n",
              "    60% {\n",
              "      border-color: transparent;\n",
              "      border-right-color: var(--fill-color);\n",
              "    }\n",
              "    80% {\n",
              "      border-color: transparent;\n",
              "      border-right-color: var(--fill-color);\n",
              "      border-bottom-color: var(--fill-color);\n",
              "    }\n",
              "    90% {\n",
              "      border-color: transparent;\n",
              "      border-bottom-color: var(--fill-color);\n",
              "    }\n",
              "  }\n",
              "</style>\n",
              "\n",
              "  <script>\n",
              "    async function quickchart(key) {\n",
              "      const quickchartButtonEl =\n",
              "        document.querySelector('#' + key + ' button');\n",
              "      quickchartButtonEl.disabled = true;  // To prevent multiple clicks.\n",
              "      quickchartButtonEl.classList.add('colab-df-spinner');\n",
              "      try {\n",
              "        const charts = await google.colab.kernel.invokeFunction(\n",
              "            'suggestCharts', [key], {});\n",
              "      } catch (error) {\n",
              "        console.error('Error during call to suggestCharts:', error);\n",
              "      }\n",
              "      quickchartButtonEl.classList.remove('colab-df-spinner');\n",
              "      quickchartButtonEl.classList.add('colab-df-quickchart-complete');\n",
              "    }\n",
              "    (() => {\n",
              "      let quickchartButtonEl =\n",
              "        document.querySelector('#df-ecf5faa2-cc65-4751-9495-f1fed8f8776b button');\n",
              "      quickchartButtonEl.style.display =\n",
              "        google.colab.kernel.accessAllowed ? 'block' : 'none';\n",
              "    })();\n",
              "  </script>\n",
              "</div>\n",
              "    </div>\n",
              "  </div>\n"
            ]
          },
          "metadata": {},
          "execution_count": 9
        }
      ]
    },
    {
      "cell_type": "code",
      "source": [],
      "metadata": {
        "id": "TyNzq2g168yr"
      },
      "execution_count": null,
      "outputs": []
    }
  ]
}